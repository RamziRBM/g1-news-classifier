{
  "cells": [
    {
      "metadata": {
        "id": "536f82471ccf5147"
      },
      "cell_type": "markdown",
      "source": [
        "Import the required libraries:"
      ],
      "id": "536f82471ccf5147"
    },
    {
      "metadata": {
        "ExecuteTime": {
          "end_time": "2025-10-30T21:45:16.784719Z",
          "start_time": "2025-10-30T21:45:16.517304Z"
        },
        "id": "69196dad55951acd"
      },
      "cell_type": "code",
      "source": [
        "import nltk\n",
        "import re\n",
        "import string\n",
        "import pandas as pd\n",
        "import matplotlib.pyplot as plt\n",
        "from nltk.corpus import stopwords\n",
        "from nltk.tokenize import word_tokenize\n",
        "from nltk.stem import PorterStemmer, WordNetLemmatizer\n",
        "from nltk import pos_tag\n",
        "from sklearn.feature_extraction.text import CountVectorizer, TfidfVectorizer"
      ],
      "id": "69196dad55951acd",
      "outputs": [],
      "execution_count": 1
    },
    {
      "metadata": {
        "ExecuteTime": {
          "end_time": "2025-10-30T21:45:16.928742Z",
          "start_time": "2025-10-30T21:45:16.833448Z"
        },
        "colab": {
          "base_uri": "https://localhost:8080/"
        },
        "id": "a48ad4fb39636975",
        "outputId": "f395b304-b699-428a-fac9-c3a220c95d31"
      },
      "cell_type": "code",
      "source": [
        "# Download NLTK datasets\n",
        "nltk.download('punkt')\n",
        "nltk.download('stopwords')\n",
        "nltk.download('averaged_perceptron_tagger')\n",
        "nltk.download('wordnet')\n",
        "nltk.download('punkt_tab')\n",
        "nltk.download('averaged_perceptron_tagger')"
      ],
      "id": "a48ad4fb39636975",
      "outputs": [
        {
          "output_type": "stream",
          "name": "stderr",
          "text": [
            "[nltk_data] Downloading package punkt to /root/nltk_data...\n",
            "[nltk_data]   Unzipping tokenizers/punkt.zip.\n",
            "[nltk_data] Downloading package stopwords to /root/nltk_data...\n",
            "[nltk_data]   Unzipping corpora/stopwords.zip.\n",
            "[nltk_data] Downloading package averaged_perceptron_tagger to\n",
            "[nltk_data]     /root/nltk_data...\n",
            "[nltk_data]   Unzipping taggers/averaged_perceptron_tagger.zip.\n",
            "[nltk_data] Downloading package wordnet to /root/nltk_data...\n",
            "[nltk_data] Downloading package punkt_tab to /root/nltk_data...\n",
            "[nltk_data]   Unzipping tokenizers/punkt_tab.zip.\n",
            "[nltk_data] Downloading package averaged_perceptron_tagger to\n",
            "[nltk_data]     /root/nltk_data...\n",
            "[nltk_data]   Package averaged_perceptron_tagger is already up-to-\n",
            "[nltk_data]       date!\n"
          ]
        },
        {
          "output_type": "execute_result",
          "data": {
            "text/plain": [
              "True"
            ]
          },
          "metadata": {},
          "execution_count": 2
        }
      ],
      "execution_count": 2
    },
    {
      "metadata": {
        "ExecuteTime": {
          "end_time": "2025-10-30T21:45:17.510615Z",
          "start_time": "2025-10-30T21:45:16.990422Z"
        },
        "colab": {
          "base_uri": "https://localhost:8080/"
        },
        "id": "5da00b9c4805f90d",
        "outputId": "c771f82f-fafc-4674-b36f-cc3cf659e5d3"
      },
      "cell_type": "code",
      "source": [
        "df=pd.read_csv(\"training_data_lowercase.csv\", sep='\\t', names=[\"labels\", \"text\"], header=None)\n",
        "print(df.columns)\n",
        "print(df.head())"
      ],
      "id": "5da00b9c4805f90d",
      "outputs": [
        {
          "output_type": "stream",
          "name": "stdout",
          "text": [
            "Index(['labels', 'text'], dtype='object')\n",
            "   labels                                               text\n",
            "0       0  donald trump sends out embarrassing new year‚s...\n",
            "1       0  drunk bragging trump staffer started russian c...\n",
            "2       0  sheriff david clarke becomes an internet joke ...\n",
            "3       0  trump is so obsessed he even has obama‚s name ...\n",
            "4       0  pope francis just called out donald trump duri...\n"
          ]
        }
      ],
      "execution_count": 3
    },
    {
      "metadata": {
        "ExecuteTime": {
          "end_time": "2025-10-30T21:45:17.606748Z",
          "start_time": "2025-10-30T21:45:17.550402Z"
        },
        "id": "c81ffecaeb7f48d1"
      },
      "cell_type": "code",
      "source": [
        "\n",
        "data_train=df[\"text\"]\n",
        "data_test=df[\"labels\"]"
      ],
      "id": "c81ffecaeb7f48d1",
      "outputs": [],
      "execution_count": 4
    },
    {
      "metadata": {
        "ExecuteTime": {
          "end_time": "2025-10-30T21:45:22.204687Z",
          "start_time": "2025-10-30T21:45:17.673989Z"
        },
        "id": "28e527e886da5554"
      },
      "cell_type": "code",
      "source": [
        "def tokenize_text(text):\n",
        "    if isinstance(text, str):\n",
        "\n",
        "        return word_tokenize(text)   # returns a list of tokens\n",
        "    else:\n",
        "        return []\n",
        "data_token=data_train.apply(tokenize_text)\n",
        "# filter_data=data_train.apply(tokenize_text)"
      ],
      "id": "28e527e886da5554",
      "outputs": [],
      "execution_count": 5
    },
    {
      "metadata": {
        "id": "5da4055d485eebf7"
      },
      "cell_type": "markdown",
      "source": [
        "Remove stop words"
      ],
      "id": "5da4055d485eebf7"
    },
    {
      "metadata": {
        "ExecuteTime": {
          "end_time": "2025-10-30T21:45:42.729091Z",
          "start_time": "2025-10-30T21:45:22.245563Z"
        },
        "colab": {
          "base_uri": "https://localhost:8080/"
        },
        "id": "fa34c2cc82731e3d",
        "outputId": "4c8f6bf6-c3fb-4591-e63a-8403e5d7758f"
      },
      "cell_type": "code",
      "source": [
        "def remove_stop_words(text):\n",
        "    stop_words = set(stopwords.words('english'))\n",
        "    words_clean = [word for word in text if word not in stop_words]\n",
        "    return ' '.join(words_clean)\n",
        "\n",
        "filter_data=data_token.apply(remove_stop_words)\n",
        "\n",
        "print(filter_data.head())"
      ],
      "id": "fa34c2cc82731e3d",
      "outputs": [
        {
          "output_type": "stream",
          "name": "stdout",
          "text": [
            "0    donald trump sends embarrassing new year‚s eve...\n",
            "1    drunk bragging trump staffer started russian c...\n",
            "2    sheriff david clarke becomes internet joke thr...\n",
            "3    trump obsessed even obama‚s name coded website...\n",
            "4    pope francis called donald trump christmas speech\n",
            "Name: text, dtype: object\n"
          ]
        }
      ],
      "execution_count": 6
    },
    {
      "metadata": {
        "id": "911101d2e3d99498"
      },
      "cell_type": "markdown",
      "source": [
        "split the data for train and test"
      ],
      "id": "911101d2e3d99498"
    },
    {
      "metadata": {
        "ExecuteTime": {
          "end_time": "2025-10-30T21:45:43.108091Z",
          "start_time": "2025-10-30T21:45:42.875058Z"
        },
        "colab": {
          "base_uri": "https://localhost:8080/"
        },
        "id": "c624878d8737c197",
        "outputId": "fe128f12-1bc0-4bb0-af64-e9c3ccb7e6cd"
      },
      "cell_type": "code",
      "source": [
        "from sklearn.model_selection import train_test_split\n",
        "\n",
        "# X=filter_data.to_frame(name='text')\n",
        "# y=data_test.to_frame(name='labels')\n",
        "X=filter_data\n",
        "y=data_test\n",
        "print(X)\n",
        "print(y)\n",
        "print(X.isna().sum())\n",
        "X_train, X_test, y_train, y_test = train_test_split(\n",
        "    X, y, test_size=0.2, random_state=42, shuffle=True\n",
        ")\n",
        "\n",
        "print(X_train.shape)\n",
        "print(X_test.shape)"
      ],
      "id": "c624878d8737c197",
      "outputs": [
        {
          "output_type": "stream",
          "name": "stdout",
          "text": [
            "0        donald trump sends embarrassing new year‚s eve...\n",
            "1        drunk bragging trump staffer started russian c...\n",
            "2        sheriff david clarke becomes internet joke thr...\n",
            "3        trump obsessed even obama‚s name coded website...\n",
            "4        pope francis called donald trump christmas speech\n",
            "                               ...                        \n",
            "34147         tears rain thais gather late king 's funeral\n",
            "34148    pyongyang university needs non-u.s. teachers t...\n",
            "34149    philippine president duterte visit japan ahead...\n",
            "34150           japan 's abe may election many n't want pm\n",
            "34151    demoralized divided : inside catalonia 's poli...\n",
            "Name: text, Length: 34152, dtype: object\n",
            "0        0\n",
            "1        0\n",
            "2        0\n",
            "3        0\n",
            "4        0\n",
            "        ..\n",
            "34147    1\n",
            "34148    1\n",
            "34149    1\n",
            "34150    1\n",
            "34151    1\n",
            "Name: labels, Length: 34152, dtype: int64\n",
            "0\n",
            "(27321,)\n",
            "(6831,)\n"
          ]
        }
      ],
      "execution_count": 7
    },
    {
      "metadata": {
        "id": "1fab689db2dffa1f"
      },
      "cell_type": "markdown",
      "source": [
        "Load the vectorizer and vectorize the data"
      ],
      "id": "1fab689db2dffa1f"
    },
    {
      "metadata": {
        "ExecuteTime": {
          "end_time": "2025-10-30T21:45:43.145704Z",
          "start_time": "2025-10-30T21:45:43.124787Z"
        },
        "colab": {
          "base_uri": "https://localhost:8080/"
        },
        "id": "2ccf615027a389e9",
        "outputId": "e7c4cf87-904c-43f1-8e1b-f8b4ca95548f"
      },
      "cell_type": "code",
      "source": [
        "print(X_train.shape)\n",
        "X_train_str = [' '.join(tokens) if isinstance(tokens, list) else str(tokens) for tokens in X_train]\n",
        "X_test_str  = [' '.join(tokens) if isinstance(tokens, list) else str(tokens) for tokens in X_test]\n",
        "tfidf = TfidfVectorizer(\n",
        "     max_features=5000,\n",
        "    analyzer='char', ngram_range=(1,5)\n",
        ")\n",
        "\n",
        "\n",
        "X_train_tfidf = tfidf.fit_transform(X_train_str)\n",
        "X_val_tfidf = tfidf.transform(X_test_str)"
      ],
      "id": "2ccf615027a389e9",
      "outputs": [
        {
          "output_type": "stream",
          "name": "stdout",
          "text": [
            "(27321,)\n"
          ]
        }
      ],
      "execution_count": 8
    },
    {
      "cell_type": "code",
      "source": [
        "# Download the zip file\n",
        "!wget http://nlp.stanford.edu/data/glove.6B.zip\n",
        "\n",
        "# Unzip it\n",
        "!unzip glove.6B.zip\n"
      ],
      "metadata": {
        "colab": {
          "base_uri": "https://localhost:8080/"
        },
        "id": "0xiS51-C0Ihb",
        "outputId": "e3d50895-53a1-4b3f-e022-7876d9dc582b"
      },
      "id": "0xiS51-C0Ihb",
      "execution_count": 9,
      "outputs": [
        {
          "output_type": "stream",
          "name": "stdout",
          "text": [
            "--2025-10-31 13:14:36--  http://nlp.stanford.edu/data/glove.6B.zip\n",
            "Resolving nlp.stanford.edu (nlp.stanford.edu)... 171.64.67.140\n",
            "Connecting to nlp.stanford.edu (nlp.stanford.edu)|171.64.67.140|:80... connected.\n",
            "HTTP request sent, awaiting response... 302 Found\n",
            "Location: https://nlp.stanford.edu/data/glove.6B.zip [following]\n",
            "--2025-10-31 13:14:36--  https://nlp.stanford.edu/data/glove.6B.zip\n",
            "Connecting to nlp.stanford.edu (nlp.stanford.edu)|171.64.67.140|:443... connected.\n",
            "HTTP request sent, awaiting response... 301 Moved Permanently\n",
            "Location: https://downloads.cs.stanford.edu/nlp/data/glove.6B.zip [following]\n",
            "--2025-10-31 13:14:36--  https://downloads.cs.stanford.edu/nlp/data/glove.6B.zip\n",
            "Resolving downloads.cs.stanford.edu (downloads.cs.stanford.edu)... 171.64.64.22\n",
            "Connecting to downloads.cs.stanford.edu (downloads.cs.stanford.edu)|171.64.64.22|:443... connected.\n",
            "HTTP request sent, awaiting response... 200 OK\n",
            "Length: 862182613 (822M) [application/zip]\n",
            "Saving to: ‘glove.6B.zip’\n",
            "\n",
            "glove.6B.zip        100%[===================>] 822.24M  5.00MB/s    in 2m 39s  \n",
            "\n",
            "2025-10-31 13:17:15 (5.17 MB/s) - ‘glove.6B.zip’ saved [862182613/862182613]\n",
            "\n",
            "Archive:  glove.6B.zip\n",
            "  inflating: glove.6B.50d.txt        \n",
            "  inflating: glove.6B.100d.txt       \n",
            "  inflating: glove.6B.200d.txt       \n",
            "  inflating: glove.6B.300d.txt       \n"
          ]
        }
      ]
    },
    {
      "metadata": {
        "ExecuteTime": {
          "end_time": "2025-10-30T21:47:23.587311Z",
          "start_time": "2025-10-30T21:47:15.855421Z"
        },
        "id": "fbe2c71c0442eb4b"
      },
      "cell_type": "code",
      "source": [
        "import numpy as np\n",
        "embedding_dim = 100  # depends on your pretrained embeddings\n",
        "embedding_index = {}  # Load GloVe vectors here\n",
        "\n",
        "with open('glove.6B.100d.txt', 'r', encoding='utf8') as f:\n",
        "    for line in f:\n",
        "        values = line.strip().split()\n",
        "        word = values[0]\n",
        "        vector = np.asarray(values[1:], dtype='float32')\n",
        "        embedding_index[word] = vector\n",
        "\n",
        "\n",
        "def get_doc_embedding(doc, tokenizer, embedding_index, embedding_dim):\n",
        "    words = doc.split()\n",
        "    vectors = [embedding_index[w] for w in words if w in embedding_index]\n",
        "    if len(vectors) == 0:\n",
        "        return np.zeros(embedding_dim)\n",
        "    return np.mean(vectors, axis=0)\n",
        "\n",
        "X_embed = np.array([get_doc_embedding(doc, None, embedding_index, embedding_dim) for doc in X_train])\n",
        "\n",
        "X_val_embed = np.array([get_doc_embedding(doc, None, embedding_index, embedding_dim) for doc in X_test])\n",
        "\n"
      ],
      "id": "fbe2c71c0442eb4b",
      "outputs": [],
      "execution_count": 10
    },
    {
      "metadata": {
        "ExecuteTime": {
          "end_time": "2025-10-30T21:46:49.558817700Z",
          "start_time": "2025-10-30T21:12:33.754246Z"
        },
        "id": "27ed93b1855e6bcf"
      },
      "cell_type": "code",
      "source": [
        "from scipy.sparse import hstack\n",
        "# Convert embeddings to sparse if necessary\n",
        "from scipy.sparse import csr_matrix\n",
        "\n",
        "X_embed_sparse = csr_matrix(X_embed)\n",
        "X_hybrid = hstack([X_train_tfidf, X_embed_sparse])\n",
        "\n",
        "X_val_embed_sparse = csr_matrix(X_val_embed)  # embeddings for X_val\n",
        "X_val_hybrid = hstack([X_val_tfidf, X_val_embed_sparse])"
      ],
      "id": "27ed93b1855e6bcf",
      "outputs": [],
      "execution_count": 11
    },
    {
      "metadata": {
        "id": "59baeef86108a7fa"
      },
      "cell_type": "markdown",
      "source": [
        "modal"
      ],
      "id": "59baeef86108a7fa"
    },
    {
      "metadata": {
        "ExecuteTime": {
          "end_time": "2025-10-30T21:46:49.558817700Z",
          "start_time": "2025-10-30T21:15:26.421446Z"
        },
        "id": "9d1f68f963439400"
      },
      "cell_type": "code",
      "source": [
        "from xgboost import XGBClassifier\n",
        "from sklearn.metrics import accuracy_score, classification_report\n",
        "\n",
        "model = XGBClassifier(\n",
        "    n_estimators=300,\n",
        "    learning_rate=0.1,\n",
        "    max_depth=6\n",
        ")\n",
        "# from sklearn.linear_model import  LogisticRegression\n",
        "\n",
        "# model = LogisticRegression(max_iter=500)"
      ],
      "id": "9d1f68f963439400",
      "outputs": [],
      "execution_count": 12
    },
    {
      "metadata": {
        "jupyter": {
          "is_executing": true
        },
        "ExecuteTime": {
          "end_time": "2025-10-30T21:46:49.571299300Z",
          "start_time": "2025-10-30T21:18:49.971314Z"
        },
        "colab": {
          "base_uri": "https://localhost:8080/",
          "height": 254
        },
        "id": "a16a22d770796e54",
        "outputId": "105dc5e0-c6c7-4f66-a7d5-e410fd19c7a1"
      },
      "cell_type": "code",
      "source": [
        "model.fit(X_hybrid, y_train)\n"
      ],
      "id": "a16a22d770796e54",
      "outputs": [
        {
          "output_type": "execute_result",
          "data": {
            "text/plain": [
              "XGBClassifier(base_score=None, booster=None, callbacks=None,\n",
              "              colsample_bylevel=None, colsample_bynode=None,\n",
              "              colsample_bytree=None, device=None, early_stopping_rounds=None,\n",
              "              enable_categorical=False, eval_metric=None, feature_types=None,\n",
              "              feature_weights=None, gamma=None, grow_policy=None,\n",
              "              importance_type=None, interaction_constraints=None,\n",
              "              learning_rate=0.1, max_bin=None, max_cat_threshold=None,\n",
              "              max_cat_to_onehot=None, max_delta_step=None, max_depth=6,\n",
              "              max_leaves=None, min_child_weight=None, missing=nan,\n",
              "              monotone_constraints=None, multi_strategy=None, n_estimators=300,\n",
              "              n_jobs=None, num_parallel_tree=None, ...)"
            ],
            "text/html": [
              "<style>#sk-container-id-1 {\n",
              "  /* Definition of color scheme common for light and dark mode */\n",
              "  --sklearn-color-text: #000;\n",
              "  --sklearn-color-text-muted: #666;\n",
              "  --sklearn-color-line: gray;\n",
              "  /* Definition of color scheme for unfitted estimators */\n",
              "  --sklearn-color-unfitted-level-0: #fff5e6;\n",
              "  --sklearn-color-unfitted-level-1: #f6e4d2;\n",
              "  --sklearn-color-unfitted-level-2: #ffe0b3;\n",
              "  --sklearn-color-unfitted-level-3: chocolate;\n",
              "  /* Definition of color scheme for fitted estimators */\n",
              "  --sklearn-color-fitted-level-0: #f0f8ff;\n",
              "  --sklearn-color-fitted-level-1: #d4ebff;\n",
              "  --sklearn-color-fitted-level-2: #b3dbfd;\n",
              "  --sklearn-color-fitted-level-3: cornflowerblue;\n",
              "\n",
              "  /* Specific color for light theme */\n",
              "  --sklearn-color-text-on-default-background: var(--sg-text-color, var(--theme-code-foreground, var(--jp-content-font-color1, black)));\n",
              "  --sklearn-color-background: var(--sg-background-color, var(--theme-background, var(--jp-layout-color0, white)));\n",
              "  --sklearn-color-border-box: var(--sg-text-color, var(--theme-code-foreground, var(--jp-content-font-color1, black)));\n",
              "  --sklearn-color-icon: #696969;\n",
              "\n",
              "  @media (prefers-color-scheme: dark) {\n",
              "    /* Redefinition of color scheme for dark theme */\n",
              "    --sklearn-color-text-on-default-background: var(--sg-text-color, var(--theme-code-foreground, var(--jp-content-font-color1, white)));\n",
              "    --sklearn-color-background: var(--sg-background-color, var(--theme-background, var(--jp-layout-color0, #111)));\n",
              "    --sklearn-color-border-box: var(--sg-text-color, var(--theme-code-foreground, var(--jp-content-font-color1, white)));\n",
              "    --sklearn-color-icon: #878787;\n",
              "  }\n",
              "}\n",
              "\n",
              "#sk-container-id-1 {\n",
              "  color: var(--sklearn-color-text);\n",
              "}\n",
              "\n",
              "#sk-container-id-1 pre {\n",
              "  padding: 0;\n",
              "}\n",
              "\n",
              "#sk-container-id-1 input.sk-hidden--visually {\n",
              "  border: 0;\n",
              "  clip: rect(1px 1px 1px 1px);\n",
              "  clip: rect(1px, 1px, 1px, 1px);\n",
              "  height: 1px;\n",
              "  margin: -1px;\n",
              "  overflow: hidden;\n",
              "  padding: 0;\n",
              "  position: absolute;\n",
              "  width: 1px;\n",
              "}\n",
              "\n",
              "#sk-container-id-1 div.sk-dashed-wrapped {\n",
              "  border: 1px dashed var(--sklearn-color-line);\n",
              "  margin: 0 0.4em 0.5em 0.4em;\n",
              "  box-sizing: border-box;\n",
              "  padding-bottom: 0.4em;\n",
              "  background-color: var(--sklearn-color-background);\n",
              "}\n",
              "\n",
              "#sk-container-id-1 div.sk-container {\n",
              "  /* jupyter's `normalize.less` sets `[hidden] { display: none; }`\n",
              "     but bootstrap.min.css set `[hidden] { display: none !important; }`\n",
              "     so we also need the `!important` here to be able to override the\n",
              "     default hidden behavior on the sphinx rendered scikit-learn.org.\n",
              "     See: https://github.com/scikit-learn/scikit-learn/issues/21755 */\n",
              "  display: inline-block !important;\n",
              "  position: relative;\n",
              "}\n",
              "\n",
              "#sk-container-id-1 div.sk-text-repr-fallback {\n",
              "  display: none;\n",
              "}\n",
              "\n",
              "div.sk-parallel-item,\n",
              "div.sk-serial,\n",
              "div.sk-item {\n",
              "  /* draw centered vertical line to link estimators */\n",
              "  background-image: linear-gradient(var(--sklearn-color-text-on-default-background), var(--sklearn-color-text-on-default-background));\n",
              "  background-size: 2px 100%;\n",
              "  background-repeat: no-repeat;\n",
              "  background-position: center center;\n",
              "}\n",
              "\n",
              "/* Parallel-specific style estimator block */\n",
              "\n",
              "#sk-container-id-1 div.sk-parallel-item::after {\n",
              "  content: \"\";\n",
              "  width: 100%;\n",
              "  border-bottom: 2px solid var(--sklearn-color-text-on-default-background);\n",
              "  flex-grow: 1;\n",
              "}\n",
              "\n",
              "#sk-container-id-1 div.sk-parallel {\n",
              "  display: flex;\n",
              "  align-items: stretch;\n",
              "  justify-content: center;\n",
              "  background-color: var(--sklearn-color-background);\n",
              "  position: relative;\n",
              "}\n",
              "\n",
              "#sk-container-id-1 div.sk-parallel-item {\n",
              "  display: flex;\n",
              "  flex-direction: column;\n",
              "}\n",
              "\n",
              "#sk-container-id-1 div.sk-parallel-item:first-child::after {\n",
              "  align-self: flex-end;\n",
              "  width: 50%;\n",
              "}\n",
              "\n",
              "#sk-container-id-1 div.sk-parallel-item:last-child::after {\n",
              "  align-self: flex-start;\n",
              "  width: 50%;\n",
              "}\n",
              "\n",
              "#sk-container-id-1 div.sk-parallel-item:only-child::after {\n",
              "  width: 0;\n",
              "}\n",
              "\n",
              "/* Serial-specific style estimator block */\n",
              "\n",
              "#sk-container-id-1 div.sk-serial {\n",
              "  display: flex;\n",
              "  flex-direction: column;\n",
              "  align-items: center;\n",
              "  background-color: var(--sklearn-color-background);\n",
              "  padding-right: 1em;\n",
              "  padding-left: 1em;\n",
              "}\n",
              "\n",
              "\n",
              "/* Toggleable style: style used for estimator/Pipeline/ColumnTransformer box that is\n",
              "clickable and can be expanded/collapsed.\n",
              "- Pipeline and ColumnTransformer use this feature and define the default style\n",
              "- Estimators will overwrite some part of the style using the `sk-estimator` class\n",
              "*/\n",
              "\n",
              "/* Pipeline and ColumnTransformer style (default) */\n",
              "\n",
              "#sk-container-id-1 div.sk-toggleable {\n",
              "  /* Default theme specific background. It is overwritten whether we have a\n",
              "  specific estimator or a Pipeline/ColumnTransformer */\n",
              "  background-color: var(--sklearn-color-background);\n",
              "}\n",
              "\n",
              "/* Toggleable label */\n",
              "#sk-container-id-1 label.sk-toggleable__label {\n",
              "  cursor: pointer;\n",
              "  display: flex;\n",
              "  width: 100%;\n",
              "  margin-bottom: 0;\n",
              "  padding: 0.5em;\n",
              "  box-sizing: border-box;\n",
              "  text-align: center;\n",
              "  align-items: start;\n",
              "  justify-content: space-between;\n",
              "  gap: 0.5em;\n",
              "}\n",
              "\n",
              "#sk-container-id-1 label.sk-toggleable__label .caption {\n",
              "  font-size: 0.6rem;\n",
              "  font-weight: lighter;\n",
              "  color: var(--sklearn-color-text-muted);\n",
              "}\n",
              "\n",
              "#sk-container-id-1 label.sk-toggleable__label-arrow:before {\n",
              "  /* Arrow on the left of the label */\n",
              "  content: \"▸\";\n",
              "  float: left;\n",
              "  margin-right: 0.25em;\n",
              "  color: var(--sklearn-color-icon);\n",
              "}\n",
              "\n",
              "#sk-container-id-1 label.sk-toggleable__label-arrow:hover:before {\n",
              "  color: var(--sklearn-color-text);\n",
              "}\n",
              "\n",
              "/* Toggleable content - dropdown */\n",
              "\n",
              "#sk-container-id-1 div.sk-toggleable__content {\n",
              "  max-height: 0;\n",
              "  max-width: 0;\n",
              "  overflow: hidden;\n",
              "  text-align: left;\n",
              "  /* unfitted */\n",
              "  background-color: var(--sklearn-color-unfitted-level-0);\n",
              "}\n",
              "\n",
              "#sk-container-id-1 div.sk-toggleable__content.fitted {\n",
              "  /* fitted */\n",
              "  background-color: var(--sklearn-color-fitted-level-0);\n",
              "}\n",
              "\n",
              "#sk-container-id-1 div.sk-toggleable__content pre {\n",
              "  margin: 0.2em;\n",
              "  border-radius: 0.25em;\n",
              "  color: var(--sklearn-color-text);\n",
              "  /* unfitted */\n",
              "  background-color: var(--sklearn-color-unfitted-level-0);\n",
              "}\n",
              "\n",
              "#sk-container-id-1 div.sk-toggleable__content.fitted pre {\n",
              "  /* unfitted */\n",
              "  background-color: var(--sklearn-color-fitted-level-0);\n",
              "}\n",
              "\n",
              "#sk-container-id-1 input.sk-toggleable__control:checked~div.sk-toggleable__content {\n",
              "  /* Expand drop-down */\n",
              "  max-height: 200px;\n",
              "  max-width: 100%;\n",
              "  overflow: auto;\n",
              "}\n",
              "\n",
              "#sk-container-id-1 input.sk-toggleable__control:checked~label.sk-toggleable__label-arrow:before {\n",
              "  content: \"▾\";\n",
              "}\n",
              "\n",
              "/* Pipeline/ColumnTransformer-specific style */\n",
              "\n",
              "#sk-container-id-1 div.sk-label input.sk-toggleable__control:checked~label.sk-toggleable__label {\n",
              "  color: var(--sklearn-color-text);\n",
              "  background-color: var(--sklearn-color-unfitted-level-2);\n",
              "}\n",
              "\n",
              "#sk-container-id-1 div.sk-label.fitted input.sk-toggleable__control:checked~label.sk-toggleable__label {\n",
              "  background-color: var(--sklearn-color-fitted-level-2);\n",
              "}\n",
              "\n",
              "/* Estimator-specific style */\n",
              "\n",
              "/* Colorize estimator box */\n",
              "#sk-container-id-1 div.sk-estimator input.sk-toggleable__control:checked~label.sk-toggleable__label {\n",
              "  /* unfitted */\n",
              "  background-color: var(--sklearn-color-unfitted-level-2);\n",
              "}\n",
              "\n",
              "#sk-container-id-1 div.sk-estimator.fitted input.sk-toggleable__control:checked~label.sk-toggleable__label {\n",
              "  /* fitted */\n",
              "  background-color: var(--sklearn-color-fitted-level-2);\n",
              "}\n",
              "\n",
              "#sk-container-id-1 div.sk-label label.sk-toggleable__label,\n",
              "#sk-container-id-1 div.sk-label label {\n",
              "  /* The background is the default theme color */\n",
              "  color: var(--sklearn-color-text-on-default-background);\n",
              "}\n",
              "\n",
              "/* On hover, darken the color of the background */\n",
              "#sk-container-id-1 div.sk-label:hover label.sk-toggleable__label {\n",
              "  color: var(--sklearn-color-text);\n",
              "  background-color: var(--sklearn-color-unfitted-level-2);\n",
              "}\n",
              "\n",
              "/* Label box, darken color on hover, fitted */\n",
              "#sk-container-id-1 div.sk-label.fitted:hover label.sk-toggleable__label.fitted {\n",
              "  color: var(--sklearn-color-text);\n",
              "  background-color: var(--sklearn-color-fitted-level-2);\n",
              "}\n",
              "\n",
              "/* Estimator label */\n",
              "\n",
              "#sk-container-id-1 div.sk-label label {\n",
              "  font-family: monospace;\n",
              "  font-weight: bold;\n",
              "  display: inline-block;\n",
              "  line-height: 1.2em;\n",
              "}\n",
              "\n",
              "#sk-container-id-1 div.sk-label-container {\n",
              "  text-align: center;\n",
              "}\n",
              "\n",
              "/* Estimator-specific */\n",
              "#sk-container-id-1 div.sk-estimator {\n",
              "  font-family: monospace;\n",
              "  border: 1px dotted var(--sklearn-color-border-box);\n",
              "  border-radius: 0.25em;\n",
              "  box-sizing: border-box;\n",
              "  margin-bottom: 0.5em;\n",
              "  /* unfitted */\n",
              "  background-color: var(--sklearn-color-unfitted-level-0);\n",
              "}\n",
              "\n",
              "#sk-container-id-1 div.sk-estimator.fitted {\n",
              "  /* fitted */\n",
              "  background-color: var(--sklearn-color-fitted-level-0);\n",
              "}\n",
              "\n",
              "/* on hover */\n",
              "#sk-container-id-1 div.sk-estimator:hover {\n",
              "  /* unfitted */\n",
              "  background-color: var(--sklearn-color-unfitted-level-2);\n",
              "}\n",
              "\n",
              "#sk-container-id-1 div.sk-estimator.fitted:hover {\n",
              "  /* fitted */\n",
              "  background-color: var(--sklearn-color-fitted-level-2);\n",
              "}\n",
              "\n",
              "/* Specification for estimator info (e.g. \"i\" and \"?\") */\n",
              "\n",
              "/* Common style for \"i\" and \"?\" */\n",
              "\n",
              ".sk-estimator-doc-link,\n",
              "a:link.sk-estimator-doc-link,\n",
              "a:visited.sk-estimator-doc-link {\n",
              "  float: right;\n",
              "  font-size: smaller;\n",
              "  line-height: 1em;\n",
              "  font-family: monospace;\n",
              "  background-color: var(--sklearn-color-background);\n",
              "  border-radius: 1em;\n",
              "  height: 1em;\n",
              "  width: 1em;\n",
              "  text-decoration: none !important;\n",
              "  margin-left: 0.5em;\n",
              "  text-align: center;\n",
              "  /* unfitted */\n",
              "  border: var(--sklearn-color-unfitted-level-1) 1pt solid;\n",
              "  color: var(--sklearn-color-unfitted-level-1);\n",
              "}\n",
              "\n",
              ".sk-estimator-doc-link.fitted,\n",
              "a:link.sk-estimator-doc-link.fitted,\n",
              "a:visited.sk-estimator-doc-link.fitted {\n",
              "  /* fitted */\n",
              "  border: var(--sklearn-color-fitted-level-1) 1pt solid;\n",
              "  color: var(--sklearn-color-fitted-level-1);\n",
              "}\n",
              "\n",
              "/* On hover */\n",
              "div.sk-estimator:hover .sk-estimator-doc-link:hover,\n",
              ".sk-estimator-doc-link:hover,\n",
              "div.sk-label-container:hover .sk-estimator-doc-link:hover,\n",
              ".sk-estimator-doc-link:hover {\n",
              "  /* unfitted */\n",
              "  background-color: var(--sklearn-color-unfitted-level-3);\n",
              "  color: var(--sklearn-color-background);\n",
              "  text-decoration: none;\n",
              "}\n",
              "\n",
              "div.sk-estimator.fitted:hover .sk-estimator-doc-link.fitted:hover,\n",
              ".sk-estimator-doc-link.fitted:hover,\n",
              "div.sk-label-container:hover .sk-estimator-doc-link.fitted:hover,\n",
              ".sk-estimator-doc-link.fitted:hover {\n",
              "  /* fitted */\n",
              "  background-color: var(--sklearn-color-fitted-level-3);\n",
              "  color: var(--sklearn-color-background);\n",
              "  text-decoration: none;\n",
              "}\n",
              "\n",
              "/* Span, style for the box shown on hovering the info icon */\n",
              ".sk-estimator-doc-link span {\n",
              "  display: none;\n",
              "  z-index: 9999;\n",
              "  position: relative;\n",
              "  font-weight: normal;\n",
              "  right: .2ex;\n",
              "  padding: .5ex;\n",
              "  margin: .5ex;\n",
              "  width: min-content;\n",
              "  min-width: 20ex;\n",
              "  max-width: 50ex;\n",
              "  color: var(--sklearn-color-text);\n",
              "  box-shadow: 2pt 2pt 4pt #999;\n",
              "  /* unfitted */\n",
              "  background: var(--sklearn-color-unfitted-level-0);\n",
              "  border: .5pt solid var(--sklearn-color-unfitted-level-3);\n",
              "}\n",
              "\n",
              ".sk-estimator-doc-link.fitted span {\n",
              "  /* fitted */\n",
              "  background: var(--sklearn-color-fitted-level-0);\n",
              "  border: var(--sklearn-color-fitted-level-3);\n",
              "}\n",
              "\n",
              ".sk-estimator-doc-link:hover span {\n",
              "  display: block;\n",
              "}\n",
              "\n",
              "/* \"?\"-specific style due to the `<a>` HTML tag */\n",
              "\n",
              "#sk-container-id-1 a.estimator_doc_link {\n",
              "  float: right;\n",
              "  font-size: 1rem;\n",
              "  line-height: 1em;\n",
              "  font-family: monospace;\n",
              "  background-color: var(--sklearn-color-background);\n",
              "  border-radius: 1rem;\n",
              "  height: 1rem;\n",
              "  width: 1rem;\n",
              "  text-decoration: none;\n",
              "  /* unfitted */\n",
              "  color: var(--sklearn-color-unfitted-level-1);\n",
              "  border: var(--sklearn-color-unfitted-level-1) 1pt solid;\n",
              "}\n",
              "\n",
              "#sk-container-id-1 a.estimator_doc_link.fitted {\n",
              "  /* fitted */\n",
              "  border: var(--sklearn-color-fitted-level-1) 1pt solid;\n",
              "  color: var(--sklearn-color-fitted-level-1);\n",
              "}\n",
              "\n",
              "/* On hover */\n",
              "#sk-container-id-1 a.estimator_doc_link:hover {\n",
              "  /* unfitted */\n",
              "  background-color: var(--sklearn-color-unfitted-level-3);\n",
              "  color: var(--sklearn-color-background);\n",
              "  text-decoration: none;\n",
              "}\n",
              "\n",
              "#sk-container-id-1 a.estimator_doc_link.fitted:hover {\n",
              "  /* fitted */\n",
              "  background-color: var(--sklearn-color-fitted-level-3);\n",
              "}\n",
              "</style><div id=\"sk-container-id-1\" class=\"sk-top-container\"><div class=\"sk-text-repr-fallback\"><pre>XGBClassifier(base_score=None, booster=None, callbacks=None,\n",
              "              colsample_bylevel=None, colsample_bynode=None,\n",
              "              colsample_bytree=None, device=None, early_stopping_rounds=None,\n",
              "              enable_categorical=False, eval_metric=None, feature_types=None,\n",
              "              feature_weights=None, gamma=None, grow_policy=None,\n",
              "              importance_type=None, interaction_constraints=None,\n",
              "              learning_rate=0.1, max_bin=None, max_cat_threshold=None,\n",
              "              max_cat_to_onehot=None, max_delta_step=None, max_depth=6,\n",
              "              max_leaves=None, min_child_weight=None, missing=nan,\n",
              "              monotone_constraints=None, multi_strategy=None, n_estimators=300,\n",
              "              n_jobs=None, num_parallel_tree=None, ...)</pre><b>In a Jupyter environment, please rerun this cell to show the HTML representation or trust the notebook. <br />On GitHub, the HTML representation is unable to render, please try loading this page with nbviewer.org.</b></div><div class=\"sk-container\" hidden><div class=\"sk-item\"><div class=\"sk-estimator fitted sk-toggleable\"><input class=\"sk-toggleable__control sk-hidden--visually\" id=\"sk-estimator-id-1\" type=\"checkbox\" checked><label for=\"sk-estimator-id-1\" class=\"sk-toggleable__label fitted sk-toggleable__label-arrow\"><div><div>XGBClassifier</div></div><div><a class=\"sk-estimator-doc-link fitted\" rel=\"noreferrer\" target=\"_blank\" href=\"https://xgboost.readthedocs.io/en/release_3.1.0/python/python_api.html#xgboost.XGBClassifier\">?<span>Documentation for XGBClassifier</span></a><span class=\"sk-estimator-doc-link fitted\">i<span>Fitted</span></span></div></label><div class=\"sk-toggleable__content fitted\"><pre>XGBClassifier(base_score=None, booster=None, callbacks=None,\n",
              "              colsample_bylevel=None, colsample_bynode=None,\n",
              "              colsample_bytree=None, device=None, early_stopping_rounds=None,\n",
              "              enable_categorical=False, eval_metric=None, feature_types=None,\n",
              "              feature_weights=None, gamma=None, grow_policy=None,\n",
              "              importance_type=None, interaction_constraints=None,\n",
              "              learning_rate=0.1, max_bin=None, max_cat_threshold=None,\n",
              "              max_cat_to_onehot=None, max_delta_step=None, max_depth=6,\n",
              "              max_leaves=None, min_child_weight=None, missing=nan,\n",
              "              monotone_constraints=None, multi_strategy=None, n_estimators=300,\n",
              "              n_jobs=None, num_parallel_tree=None, ...)</pre></div> </div></div></div></div>"
            ]
          },
          "metadata": {},
          "execution_count": 13
        }
      ],
      "execution_count": 13
    },
    {
      "metadata": {
        "id": "af0c9581dd97ae4b"
      },
      "cell_type": "markdown",
      "source": [
        "prediction"
      ],
      "id": "af0c9581dd97ae4b"
    },
    {
      "metadata": {
        "ExecuteTime": {
          "end_time": "2025-10-30T21:46:49.595061500Z",
          "start_time": "2025-10-30T21:15:29.074859Z"
        },
        "id": "b0c99d13984e6e52"
      },
      "cell_type": "code",
      "source": [
        "y_pred = model.predict(X_val_hybrid)"
      ],
      "id": "b0c99d13984e6e52",
      "outputs": [],
      "execution_count": 14
    },
    {
      "metadata": {
        "id": "6ab9885b6c66f340"
      },
      "cell_type": "markdown",
      "source": [
        "Accuracy"
      ],
      "id": "6ab9885b6c66f340"
    },
    {
      "metadata": {
        "ExecuteTime": {
          "end_time": "2025-10-30T21:46:49.597081900Z",
          "start_time": "2025-10-30T21:15:31.512845Z"
        },
        "colab": {
          "base_uri": "https://localhost:8080/"
        },
        "id": "c235731eff35881",
        "outputId": "9af93320-036f-42ef-93ab-2b134e707119"
      },
      "cell_type": "code",
      "source": [
        "from sklearn.metrics import accuracy_score, classification_report\n",
        "print(\"Accuracy:\", accuracy_score(y_test, y_pred))\n",
        "print(classification_report(y_test, y_pred))"
      ],
      "id": "c235731eff35881",
      "outputs": [
        {
          "output_type": "stream",
          "name": "stdout",
          "text": [
            "Accuracy: 0.9651588347240521\n",
            "              precision    recall  f1-score   support\n",
            "\n",
            "           0       0.97      0.96      0.97      3529\n",
            "           1       0.96      0.97      0.96      3302\n",
            "\n",
            "    accuracy                           0.97      6831\n",
            "   macro avg       0.97      0.97      0.97      6831\n",
            "weighted avg       0.97      0.97      0.97      6831\n",
            "\n"
          ]
        }
      ],
      "execution_count": 15
    },
    {
      "metadata": {
        "id": "94f1d63517245e61"
      },
      "cell_type": "markdown",
      "source": [
        "Confusion matrix"
      ],
      "id": "94f1d63517245e61"
    },
    {
      "metadata": {
        "ExecuteTime": {
          "end_time": "2025-10-30T21:46:49.598602700Z",
          "start_time": "2025-10-30T21:15:34.619844Z"
        },
        "colab": {
          "base_uri": "https://localhost:8080/",
          "height": 449
        },
        "id": "ea18169fd13534f",
        "outputId": "f9fefcc6-09a4-49ab-9b4b-77b56ed5ec88"
      },
      "cell_type": "code",
      "source": [
        "from sklearn.metrics import confusion_matrix\n",
        "import seaborn as sns\n",
        "import matplotlib.pyplot as plt\n",
        "\n",
        "cm = confusion_matrix(y_test, y_pred)\n",
        "sns.heatmap(cm, annot=True, fmt='d', cmap='Blues')\n",
        "plt.xlabel('Predicted')\n",
        "plt.ylabel('Actual')\n",
        "plt.show()"
      ],
      "id": "ea18169fd13534f",
      "outputs": [
        {
          "output_type": "display_data",
          "data": {
            "text/plain": [
              "<Figure size 640x480 with 2 Axes>"
            ],
            "image/png": "[encoded data removed]"
          },
          "metadata": {}
        }
      ],
      "execution_count": 17
    },
    {
      "cell_type": "code",
      "source": [
        "test_data=pd.read_csv(\"testing_data_lowercase_nolabels.csv\", sep='\\t', names=[\"labels\", \"text\"], header=None)"
      ],
      "metadata": {
        "id": "NfXcqdB2Zzx5"
      },
      "id": "NfXcqdB2Zzx5",
      "execution_count": 18,
      "outputs": []
    },
    {
      "cell_type": "code",
      "source": [
        "test_data[\"text\"].apply(tokenize_text)\n",
        "test_data[\"text\"].apply(remove_stop_words)\n",
        "test_data_str  = test_data[\"text\"].apply(lambda x: ' '.join(x) if isinstance(x, list) else str(x))\n",
        "tfidf_test_data=tfidf.transform(test_data_str)\n",
        "X_test_embed = np.array([get_doc_embedding(doc, None, embedding_index, embedding_dim) for doc in test_data[\"text\"]])\n",
        "X_test_embed_sparse = csr_matrix(X_test_embed)  # embeddings for X_val\n",
        "X_test_hybrid = hstack([tfidf_test_data, X_test_embed_sparse])\n"
      ],
      "metadata": {
        "id": "mYhdTQ8IsBbU"
      },
      "id": "mYhdTQ8IsBbU",
      "execution_count": 22,
      "outputs": []
    },
    {
      "cell_type": "code",
      "source": [
        "y_pred = model.predict(X_test_hybrid)\n",
        "test_data[\"labels\"]=y_pred\n",
        "test_data.to_csv(\"testing_data_predictions.csv\",header=False, index=False)"
      ],
      "metadata": {
        "id": "wDRR9oTwuWKR"
      },
      "id": "wDRR9oTwuWKR",
      "execution_count": 23,
      "outputs": []
    }
  ],
  "metadata": {
    "kernelspec": {
      "display_name": "Python 3",
      "name": "python3"
    },
    "language_info": {
      "codemirror_mode": {
        "name": "ipython",
        "version": 2
      },
      "file_extension": ".py",
      "mimetype": "text/x-python",
      "name": "python",
      "nbconvert_exporter": "python",
      "pygments_lexer": "ipython2",
      "version": "2.7.6"
    },
    "colab": {
      "provenance": [],
      "gpuType": "T4"
    },
    "accelerator": "GPU"
  },
  "nbformat": 4,
  "nbformat_minor": 5
}